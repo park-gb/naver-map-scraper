{
 "cells": [
  {
   "cell_type": "markdown",
   "id": "cd558cb3",
   "metadata": {},
   "source": [
    "# Naver Map Scraper v1.0.0\n",
    "- Last Updated @2023-09-23\n",
    "- Contributor : Tony Park (https://heytech.tistory.com/)"
   ]
  },
  {
   "cell_type": "markdown",
   "id": "365e3e52",
   "metadata": {},
   "source": [
    "# Package Import"
   ]
  },
  {
   "cell_type": "code",
   "execution_count": 11,
   "id": "27f17722",
   "metadata": {},
   "outputs": [],
   "source": [
    "from selenium import webdriver\n",
    "from selenium.webdriver.support.ui import WebDriverWait\n",
    "from selenium.webdriver.support import expected_conditions as EC\n",
    "from selenium.webdriver.common.by import By\n",
    "from selenium.webdriver.common.keys import Keys\n",
    "from webdriver_manager.chrome import ChromeDriverManager\n",
    "from bs4 import BeautifulSoup\n",
    "import time\n",
    "import random\n",
    "import pandas as pd\n",
    "from tqdm import tqdm"
   ]
  },
  {
   "cell_type": "code",
   "execution_count": 12,
   "id": "d45ff4be",
   "metadata": {},
   "outputs": [],
   "source": [
    "# 최신 크롬 드라이버 사용하도록 세팅: 현재 OS에 설치된 크롬 브라우저 버전에 맞게 cache에 드라이버 설치\n",
    "from selenium.webdriver.chrome.service import Service\n",
    "service = Service(ChromeDriverManager().install())"
   ]
  },
  {
   "cell_type": "markdown",
   "id": "326847a9",
   "metadata": {},
   "source": [
    "# DB scan"
   ]
  },
  {
   "cell_type": "code",
   "execution_count": 13,
   "id": "e3187ad2",
   "metadata": {},
   "outputs": [],
   "source": [
    "DB = pd.read_excel('./콘텐츠 수집 DB_230923-1252.xlsx', sheet_name='DB_TTL_2309')"
   ]
  },
  {
   "cell_type": "code",
   "execution_count": 14,
   "id": "fde075d7",
   "metadata": {},
   "outputs": [],
   "source": [
    "DB_URL = DB['네이버지도URL']\n",
    "DB_URL.dropna(inplace=True)\n",
    "DB_URL = list(DB_URL)"
   ]
  },
  {
   "cell_type": "code",
   "execution_count": 15,
   "id": "9b26f2af",
   "metadata": {
    "scrolled": true
   },
   "outputs": [],
   "source": [
    "COLUMN_NAMES = [\n",
    "    'name',\n",
    "    'category',\n",
    "    'address',\n",
    "    'days',\n",
    "    'time1',\n",
    "    'time2',\n",
    "    'tel',\n",
    "    'desc1',\n",
    "    'desc2',\n",
    "    'desc3',\n",
    "]"
   ]
  },
  {
   "cell_type": "markdown",
   "id": "51b325b2",
   "metadata": {},
   "source": [
    "# Scrap v1.0.1"
   ]
  },
  {
   "cell_type": "code",
   "execution_count": 16,
   "id": "5ae40bee",
   "metadata": {},
   "outputs": [],
   "source": [
    "name_list = []\n",
    "category_list = []\n",
    "address_list = []\n",
    "time_mon_list = []\n",
    "time_tue_list = []\n",
    "time_wed_list = []\n",
    "time_thr_list = []\n",
    "time_fri_list = []\n",
    "time_sat_list = []\n",
    "time_sun_list = []\n",
    "time_txt_list = []\n",
    "tel_list = []\n",
    "desc1_list = []\n",
    "desc2_list = []\n",
    "desc3_list = []"
   ]
  },
  {
   "cell_type": "code",
   "execution_count": 17,
   "id": "32522c7d",
   "metadata": {},
   "outputs": [],
   "source": [
    "day_list = ['월','화','수','목','금','토','일']"
   ]
  },
  {
   "cell_type": "code",
   "execution_count": 24,
   "id": "5d524cc7",
   "metadata": {
    "scrolled": true
   },
   "outputs": [
    {
     "name": "stderr",
     "output_type": "stream",
     "text": [
      "  1%|▎                                          | 1/119 [00:20<39:49, 20.25s/it]"
     ]
    },
    {
     "name": "stdout",
     "output_type": "stream",
     "text": [
      "name: 을왕리해수욕장\n"
     ]
    },
    {
     "name": "stderr",
     "output_type": "stream",
     "text": [
      "  2%|▋                                          | 2/119 [00:40<39:03, 20.03s/it]"
     ]
    },
    {
     "name": "stdout",
     "output_type": "stream",
     "text": [
      "name: 왕산해수욕장\n"
     ]
    },
    {
     "name": "stderr",
     "output_type": "stream",
     "text": [
      "  3%|█                                          | 3/119 [01:00<38:42, 20.02s/it]"
     ]
    },
    {
     "name": "stdout",
     "output_type": "stream",
     "text": [
      "name: 영종도 마시안 해변\n",
      "Error : list index out of range\n"
     ]
    },
    {
     "name": "stderr",
     "output_type": "stream",
     "text": [
      "  3%|█▍                                         | 4/119 [01:20<38:22, 20.02s/it]"
     ]
    },
    {
     "name": "stdout",
     "output_type": "stream",
     "text": [
      "name: 선녀바위해수욕장\n",
      "Error : list index out of range\n"
     ]
    },
    {
     "name": "stderr",
     "output_type": "stream",
     "text": [
      "  4%|█▊                                         | 5/119 [01:39<37:53, 19.94s/it]"
     ]
    },
    {
     "name": "stdout",
     "output_type": "stream",
     "text": [
      "name: 용유도해변\n",
      "Error : list index out of range\n"
     ]
    },
    {
     "name": "stderr",
     "output_type": "stream",
     "text": [
      "  5%|██▏                                        | 6/119 [01:59<37:32, 19.93s/it]"
     ]
    },
    {
     "name": "stdout",
     "output_type": "stream",
     "text": [
      "name: 예단포둘레길\n",
      "Error : list index out of range\n"
     ]
    },
    {
     "name": "stderr",
     "output_type": "stream",
     "text": [
      "  6%|██▌                                        | 7/119 [02:19<37:04, 19.86s/it]"
     ]
    },
    {
     "name": "stdout",
     "output_type": "stream",
     "text": [
      "name: 구읍뱃터\n",
      "Error : list index out of range\n"
     ]
    },
    {
     "name": "stderr",
     "output_type": "stream",
     "text": [
      "  7%|██▉                                        | 8/119 [02:39<36:36, 19.79s/it]"
     ]
    },
    {
     "name": "stdout",
     "output_type": "stream",
     "text": [
      "name: 미단씨티11호근린공원\n",
      "Error : list index out of range\n"
     ]
    },
    {
     "name": "stderr",
     "output_type": "stream",
     "text": [
      "  8%|███▎                                       | 9/119 [02:58<36:01, 19.65s/it]"
     ]
    },
    {
     "name": "stdout",
     "output_type": "stream",
     "text": [
      "name: 미단씨티10호근린공원\n",
      "Error : list index out of range\n"
     ]
    },
    {
     "name": "stderr",
     "output_type": "stream",
     "text": [
      "  8%|███▌                                      | 10/119 [03:13<33:08, 18.25s/it]"
     ]
    },
    {
     "name": "stdout",
     "output_type": "stream",
     "text": [
      "name: 영종씨사이드 레일바이크\n",
      "time_dict : {'일': '09:00 - 17:20', '월': '09:00 - 17:20', '화': '09:00 - 17:20', '수': '09:00 - 17:20', '목': '09:00 - 17:20', '금': '13:00 - 18:00', '토': '09:00 - 17:20'}\n"
     ]
    },
    {
     "name": "stderr",
     "output_type": "stream",
     "text": [
      "  9%|███▉                                      | 11/119 [03:33<33:31, 18.63s/it]"
     ]
    },
    {
     "name": "stdout",
     "output_type": "stream",
     "text": [
      "name: 영종하늘도시별빛광장\n",
      "Error : list index out of range\n"
     ]
    },
    {
     "name": "stderr",
     "output_type": "stream",
     "text": [
      " 10%|████▏                                     | 12/119 [03:52<33:40, 18.88s/it]"
     ]
    },
    {
     "name": "stdout",
     "output_type": "stream",
     "text": [
      "name: 하나개해수욕장\n"
     ]
    },
    {
     "name": "stderr",
     "output_type": "stream",
     "text": [
      " 11%|████▌                                     | 13/119 [04:07<31:21, 17.75s/it]"
     ]
    },
    {
     "name": "stdout",
     "output_type": "stream",
     "text": [
      "name: 국립무의도자연휴양림\n",
      "time_dict : {'일': '09:00 - 18:00', '월': '09:00 - 18:00', '화': '정기휴무 (매주 화요일)', '수': '09:00 - 18:00', '목': '09:00 - 18:00', '금': '09:00 - 18:00', '토': '09:00 - 18:00'}\n"
     ]
    },
    {
     "name": "stderr",
     "output_type": "stream",
     "text": [
      " 12%|████▉                                     | 14/119 [04:27<32:02, 18.31s/it]"
     ]
    },
    {
     "name": "stdout",
     "output_type": "stream",
     "text": [
      "name: 하나개유원지\n",
      "Error : list index out of range\n"
     ]
    },
    {
     "name": "stderr",
     "output_type": "stream",
     "text": [
      " 13%|█████▎                                    | 15/119 [04:47<32:39, 18.84s/it]"
     ]
    },
    {
     "name": "stdout",
     "output_type": "stream",
     "text": [
      "name: 실미도해수욕장\n"
     ]
    },
    {
     "name": "stderr",
     "output_type": "stream",
     "text": [
      " 13%|█████▋                                    | 16/119 [05:07<32:56, 19.19s/it]"
     ]
    },
    {
     "name": "stdout",
     "output_type": "stream",
     "text": [
      "name: 섬뜰아래\n"
     ]
    },
    {
     "name": "stderr",
     "output_type": "stream",
     "text": [
      " 14%|██████                                    | 17/119 [05:22<30:28, 17.92s/it]"
     ]
    },
    {
     "name": "stdout",
     "output_type": "stream",
     "text": [
      "name: 하나개팜\n",
      "time_dict : {'월': '09:00 - 21:00', '화': '09:00 - 21:00', '수': '09:00 - 21:00', '목': '09:00 - 21:00', '금': '09:00 - 21:00', '토': '09:00 - 21:00', '일': '09:00 - 21:00'}\n"
     ]
    },
    {
     "name": "stderr",
     "output_type": "stream",
     "text": [
      " 15%|██████▎                                   | 18/119 [05:42<31:05, 18.47s/it]"
     ]
    },
    {
     "name": "stdout",
     "output_type": "stream",
     "text": [
      "name: 영종도 마시안 해변\n",
      "Error : list index out of range\n"
     ]
    },
    {
     "name": "stderr",
     "output_type": "stream",
     "text": [
      " 16%|██████▋                                   | 19/119 [05:57<29:16, 17.56s/it]"
     ]
    },
    {
     "name": "stdout",
     "output_type": "stream",
     "text": [
      "name: 뚝방할매장작구이\n",
      "time_dict : {'일': '15:00 - 03:0002:00 라스트오더', '월': '15:00 - 03:0002:00 라스트오더', '화': '정기휴무 (매주 화요일)', '수': '15:00 - 03:0002:00 라스트오더', '목': '15:00 - 03:0002:00 라스트오더', '금': '15:00 - 03:0002:00 라스트오더', '토': '15:00 - 03:0002:00 라스트오더'}\n"
     ]
    },
    {
     "name": "stderr",
     "output_type": "stream",
     "text": [
      " 17%|███████                                   | 20/119 [06:12<27:51, 16.88s/it]"
     ]
    },
    {
     "name": "stdout",
     "output_type": "stream",
     "text": [
      "name: 을왕리 오늘 조개구이\n",
      "time_dict : {'일': '11:00 - 02:00', '월': '11:00 - 23:00', '화': '11:00 - 23:00', '수': '11:00 - 23:00', '목': '11:00 - 23:00', '금': '11:00 - 02:00', '토': '11:00 - 02:00'}\n"
     ]
    },
    {
     "name": "stderr",
     "output_type": "stream",
     "text": [
      " 18%|███████▍                                  | 21/119 [06:27<26:34, 16.27s/it]"
     ]
    },
    {
     "name": "stdout",
     "output_type": "stream",
     "text": [
      "name: 동해막국수\n",
      "time_dict : {'일': '11:00 - 20:4016:00 - 17:00 브레이크타임20:00 라스트오더', '월': '정기휴무 (매주 월요일)', '화': '11:00 - 20:4016:00 - 17:00 브레이크타임20:00 라스트오더', '수': '11:00 - 20:4016:00 - 17:00 브레이크타임20:00 라스트오더', '목': '11:00 - 20:4016:00 - 17:00 브레이크타임20:00 라스트오더', '금': '11:00 - 20:4016:00 - 17:00 브레이크타임20:00 라스트오더', '토': '11:00 - 20:4016:00 - 17:00 브레이크타임20:00 라스트오더'}\n"
     ]
    },
    {
     "name": "stderr",
     "output_type": "stream",
     "text": [
      " 18%|███████▊                                  | 22/119 [06:43<25:54, 16.02s/it]"
     ]
    },
    {
     "name": "stdout",
     "output_type": "stream",
     "text": [
      "name: 진주조개 을왕본점\n",
      "time_dict : {'일': '11:00 - 24:00', '월': '11:00 - 24:00', '화': '정기휴무 (매주 화요일)', '수': '11:00 - 24:00', '목': '11:00 - 01:00', '금': '11:00 - 01:00', '토': '11:00 - 01:00'}\n"
     ]
    },
    {
     "name": "stderr",
     "output_type": "stream",
     "text": [
      " 19%|████████                                  | 23/119 [06:58<25:06, 15.69s/it]"
     ]
    },
    {
     "name": "stdout",
     "output_type": "stream",
     "text": [
      "name: 선녀풍\n",
      "time_dict : {'일': '11:00 - 21:00', '월': '정기휴무 (매주 월요일)', '화': '정기휴무 (매주 화요일)', '수': '11:00 - 21:00', '목': '11:00 - 21:00', '금': '11:00 - 21:00', '토': '11:00 - 21:00'}\n",
      "Error : list index out of range\n"
     ]
    },
    {
     "name": "stderr",
     "output_type": "stream",
     "text": [
      " 20%|████████▍                                 | 24/119 [07:13<24:36, 15.55s/it]"
     ]
    },
    {
     "name": "stdout",
     "output_type": "stream",
     "text": [
      "name: 미송쌈정식\n",
      "time_dict : {'일': '09:30 - 21:00', '월': '09:30 - 21:00', '화': '09:30 - 21:00', '수': '정기휴무 (매주 수요일)', '목': '09:30 - 21:00', '금': '09:30 - 21:00', '토': '09:30 - 21:00'}\n"
     ]
    },
    {
     "name": "stderr",
     "output_type": "stream",
     "text": [
      " 21%|████████▊                                 | 25/119 [07:28<24:11, 15.44s/it]"
     ]
    },
    {
     "name": "stdout",
     "output_type": "stream",
     "text": [
      "name: 해상궁\n",
      "time_dict : {'일': '10:00 - 21:00', '월': '10:00 - 21:00', '화': '정기휴무 (매주 화요일)', '수': '10:00 - 21:00', '목': '추석 연휴10:00 - 21:00', '금': '추석10:00 - 21:00', '토': '추석 연휴10:00 - 21:00'}\n"
     ]
    },
    {
     "name": "stderr",
     "output_type": "stream",
     "text": [
      " 22%|█████████▏                                | 26/119 [07:43<23:52, 15.40s/it]"
     ]
    },
    {
     "name": "stdout",
     "output_type": "stream",
     "text": [
      "name: 전남회조개구이\n",
      "time_dict : {'일': '10:30 - 22:30', '월': '10:30 - 22:30', '화': '10:30 - 22:30', '수': '10:30 - 22:30', '목': '10:30 - 22:30', '금': '10:30 - 24:00', '토': '10:30 - 24:00'}\n"
     ]
    },
    {
     "name": "stderr",
     "output_type": "stream",
     "text": [
      " 23%|█████████▌                                | 27/119 [07:58<23:25, 15.28s/it]"
     ]
    },
    {
     "name": "stdout",
     "output_type": "stream",
     "text": [
      "name: 고목정쌈밥\n",
      "time_dict : {'일': '09:40 - 20:30', '월': '09:40 - 20:30', '화': '09:40 - 20:30', '수': '정기휴무 (매주 수요일)', '목': '09:40 - 20:30', '금': '09:40 - 20:30', '토': '09:40 - 20:30'}\n"
     ]
    },
    {
     "name": "stderr",
     "output_type": "stream",
     "text": [
      " 24%|█████████▉                                | 28/119 [08:14<23:09, 15.26s/it]"
     ]
    },
    {
     "name": "stdout",
     "output_type": "stream",
     "text": [
      "name: 까치놀 횟집 조개구이\n",
      "time_dict : {'일': '10:00 - 22:0021:30 라스트오더', '월': '10:00 - 22:0021:30 라스트오더', '화': '10:00 - 22:0021:30 라스트오더', '수': '10:00 - 22:0021:30 라스트오더', '목': '추석 연휴10:00 - 20:00', '금': '추석10:00 - 20:00', '토': '추석 연휴10:00 - 20:00'}\n"
     ]
    },
    {
     "name": "stderr",
     "output_type": "stream",
     "text": [
      " 24%|██████████▏                               | 29/119 [08:28<22:42, 15.14s/it]"
     ]
    },
    {
     "name": "stdout",
     "output_type": "stream",
     "text": [
      "name: 을왕리 어부신광호\n",
      "time_dict : {'월': '10:00 - 22:00', '화': '10:00 - 22:00', '수': '10:00 - 22:00', '목': '10:00 - 22:00', '금': '10:00 - 22:00', '토': '10:00 - 22:00', '일': '10:00 - 22:00'}\n"
     ]
    },
    {
     "name": "stderr",
     "output_type": "stream",
     "text": [
      " 25%|██████████▌                               | 30/119 [08:45<23:09, 15.61s/it]"
     ]
    },
    {
     "name": "stdout",
     "output_type": "stream",
     "text": [
      "name: 을왕리 꾸덕집\n",
      "time_dict : {'일': '09:00 - 20:0019:00 라스트오더', '월': '09:30 - 20:0019:00 라스트오더', '화': '09:30 - 20:0019:00 라스트오더', '수': '정기휴무 (매주 수요일)', '목': '09:30 - 20:0019:00 라스트오더', '금': '09:30 - 20:0019:00 라스트오더', '토': '09:00 - 20:0019:00 라스트오더'}\n"
     ]
    },
    {
     "name": "stderr",
     "output_type": "stream",
     "text": [
      " 26%|██████████▉                               | 31/119 [09:00<22:37, 15.43s/it]"
     ]
    },
    {
     "name": "stdout",
     "output_type": "stream",
     "text": [
      "name: 바다앞꼬막집\n",
      "time_dict : {'일': '10:30 - 22:0020:30 라스트오더', '월': '10:30 - 22:0016:00 - 17:00 브레이크타임20:30 라스트오더', '화': '10:30 - 22:0016:00 - 17:00 브레이크타임20:30 라스트오더', '수': '10:30 - 22:0016:00 - 17:00 브레이크타임20:30 라스트오더', '목': '10:30 - 22:30', '금': '10:30 - 22:30', '토': '10:30 - 22:30'}\n"
     ]
    },
    {
     "name": "stderr",
     "output_type": "stream",
     "text": [
      " 27%|███████████▎                              | 32/119 [09:15<22:15, 15.35s/it]"
     ]
    },
    {
     "name": "stdout",
     "output_type": "stream",
     "text": [
      "name: 아라담\n",
      "time_dict : {'일': '11:00 - 02:0000:30 라스트오더', '월': '11:00 - 02:0000:30 라스트오더', '화': '11:00 - 02:0000:30 라스트오더', '수': '11:00 - 02:0000:30 라스트오더', '목': '추석 연휴11:00 - 02:00', '금': '추석11:00 - 02:00', '토': '추석 연휴11:00 - 02:00'}\n"
     ]
    },
    {
     "name": "stderr",
     "output_type": "stream",
     "text": [
      " 28%|███████████▋                              | 33/119 [09:31<21:58, 15.33s/it]"
     ]
    },
    {
     "name": "stdout",
     "output_type": "stream",
     "text": [
      "name: 대성수산\n",
      "time_dict : {'월': '09:00 - 22:30', '화': '09:00 - 22:30', '수': '09:00 - 22:30', '목': '09:00 - 22:30', '금': '09:00 - 22:30', '토': '09:00 - 22:30', '일': '09:00 - 22:30'}\n"
     ]
    },
    {
     "name": "stderr",
     "output_type": "stream",
     "text": [
      " 29%|████████████                              | 34/119 [09:46<21:48, 15.40s/it]"
     ]
    },
    {
     "name": "stdout",
     "output_type": "stream",
     "text": [
      "name: 독도왕새우튀김 영종국제도시점\n",
      "time_dict : {'일': '12:00 - 00:3000:10 라스트오더', '월': '13:00 - 00:3000:10 라스트오더', '화': '정기휴무 (매주 화요일)', '수': '13:00 - 00:3000:10 라스트오더', '목': '추석 연휴12:00 - 00:30', '금': '추석12:00 - 00:30', '토': '추석 연휴12:00 - 00:30'}\n"
     ]
    },
    {
     "name": "stderr",
     "output_type": "stream",
     "text": [
      " 29%|████████████▎                             | 35/119 [10:01<21:27, 15.32s/it]"
     ]
    },
    {
     "name": "stdout",
     "output_type": "stream",
     "text": [
      "name: 깡왕새우튀김전문점\n",
      "time_dict : {'일': '11:00 - 23:00', '월': '정기휴무 (매주 월요일)', '화': '11:00 - 23:00', '수': '11:00 - 23:00', '목': '11:00 - 23:00', '금': '11:00 - 23:00', '토': '11:00 - 23:00'}\n"
     ]
    },
    {
     "name": "stderr",
     "output_type": "stream",
     "text": [
      " 30%|████████████▋                             | 36/119 [10:16<21:06, 15.26s/it]"
     ]
    },
    {
     "name": "stdout",
     "output_type": "stream",
     "text": [
      "name: 항구 홍게 식당\n",
      "time_dict : {'월': '10:00 - 21:30', '화': '10:00 - 21:30', '수': '10:00 - 21:30', '목': '10:00 - 21:30', '금': '10:00 - 21:30', '토': '10:00 - 21:30', '일': '10:00 - 21:30'}\n"
     ]
    },
    {
     "name": "stderr",
     "output_type": "stream",
     "text": [
      " 31%|█████████████                             | 37/119 [10:32<20:54, 15.29s/it]"
     ]
    },
    {
     "name": "stdout",
     "output_type": "stream",
     "text": [
      "name: 바다앞테이블\n",
      "time_dict : {'일': '10:30 - 22:0020:30 라스트오더', '월': '10:30 - 22:0015:00 - 17:00 브레이크타임20:30 라스트오더', '화': '10:30 - 22:0015:00 - 17:00 브레이크타임20:30 라스트오더', '수': '10:30 - 22:0015:00 - 17:00 브레이크타임20:30 라스트오더', '목': '10:30 - 22:30', '금': '10:30 - 22:30', '토': '10:30 - 22:30'}\n"
     ]
    },
    {
     "name": "stderr",
     "output_type": "stream",
     "text": [
      " 32%|█████████████▍                            | 38/119 [10:47<20:37, 15.28s/it]"
     ]
    },
    {
     "name": "stdout",
     "output_type": "stream",
     "text": [
      "name: 바다앞라면집\n",
      "time_dict : {'월': '10:30 - 22:0021:00 라스트오더', '화': '10:30 - 22:0021:00 라스트오더', '수': '10:30 - 22:0021:00 라스트오더', '목': '10:30 - 22:0021:00 라스트오더', '금': '10:30 - 22:0021:00 라스트오더', '토': '10:30 - 22:0021:00 라스트오더', '일': '10:30 - 22:0021:00 라스트오더'}\n"
     ]
    },
    {
     "name": "stderr",
     "output_type": "stream",
     "text": [
      " 33%|█████████████▊                            | 39/119 [11:04<21:00, 15.75s/it]"
     ]
    },
    {
     "name": "stdout",
     "output_type": "stream",
     "text": [
      "name: 한두레해물칼국수\n",
      "time_dict : {'일': '07:00 - 23:30', '월': '09:00 - 22:00', '화': '09:00 - 22:00', '수': '09:00 - 22:00', '목': '07:00 - 23:30', '금': '07:00 - 23:30', '토': '07:00 - 23:30'}\n"
     ]
    },
    {
     "name": "stderr",
     "output_type": "stream",
     "text": [
      " 34%|██████████████                            | 40/119 [11:19<20:31, 15.59s/it]"
     ]
    },
    {
     "name": "stdout",
     "output_type": "stream",
     "text": [
      "name: 유명한 대신수산 영종구읍뱃터점\n",
      "time_dict : {'일': '휴무', '월': '10:00 - 22:00', '화': '10:00 - 22:00', '수': '10:00 - 22:00', '목': '10:00 - 22:00', '금': '10:00 - 22:00', '토': '10:00 - 22:00'}\n"
     ]
    },
    {
     "name": "stderr",
     "output_type": "stream",
     "text": [
      " 34%|██████████████▍                           | 41/119 [11:34<20:07, 15.48s/it]"
     ]
    },
    {
     "name": "stdout",
     "output_type": "stream",
     "text": [
      "name: 하늘샤브\n",
      "time_dict : {'일': '11:00 - 22:0021:00 라스트오더', '월': '11:00 - 22:0021:00 라스트오더', '화': '정기휴무 (매주 화요일)', '수': '11:00 - 22:0021:00 라스트오더', '목': '추석 연휴11:00 - 22:00', '금': '추석11:00 - 22:00', '토': '추석 연휴11:00 - 22:00'}\n"
     ]
    },
    {
     "name": "stderr",
     "output_type": "stream",
     "text": [
      " 35%|██████████████▊                           | 42/119 [11:49<19:46, 15.40s/it]"
     ]
    },
    {
     "name": "stdout",
     "output_type": "stream",
     "text": [
      "name: 97도씨해물칼국수 영종본점\n",
      "time_dict : {'일': '11:00 - 21:2020:35 라스트오더', '월': '11:00 - 21:2020:35 라스트오더', '화': '11:00 - 21:2020:35 라스트오더', '수': '11:00 - 21:2020:35 라스트오더', '목': '11:00 - 21:2020:35 라스트오더', '금': '추석 당일 휴무', '토': '11:00 - 21:2020:35 라스트오더'}\n"
     ]
    },
    {
     "name": "stderr",
     "output_type": "stream",
     "text": [
      " 36%|███████████████▏                          | 43/119 [12:05<19:24, 15.33s/it]"
     ]
    },
    {
     "name": "stdout",
     "output_type": "stream",
     "text": [
      "name: 예단포 백원이네\n",
      "time_dict : {'일': '10:00 - 21:0015:30 - 16:00 브레이크타임20:00 라스트오더', '월': '10:00 - 21:0015:30 - 16:00 브레이크타임20:00 라스트오더', '화': '정기휴무 (매주 화요일)', '수': '10:00 - 21:0015:30 - 16:00 브레이크타임20:00 라스트오더', '목': '10:00 - 21:0015:30 - 16:00 브레이크타임20:00 라스트오더', '금': '10:00 - 21:0015:30 - 16:00 브레이크타임20:00 라스트오더', '토': '10:00 - 21:0015:30 - 16:00 브레이크타임20:00 라스트오더'}\n"
     ]
    },
    {
     "name": "stderr",
     "output_type": "stream",
     "text": [
      " 37%|███████████████▌                          | 44/119 [12:20<19:18, 15.45s/it]"
     ]
    },
    {
     "name": "stdout",
     "output_type": "stream",
     "text": [
      "name: 뚜띠쿠치나 미단시티점\n",
      "time_dict : {'월': '11:00 - 21:3020:30 라스트오더', '화': '11:00 - 21:3020:30 라스트오더', '수': '11:00 - 21:3020:30 라스트오더', '목': '11:00 - 21:3020:30 라스트오더', '금': '11:00 - 21:3020:30 라스트오더', '토': '11:00 - 21:3020:30 라스트오더', '일': '11:00 - 21:3020:30 라스트오더'}\n"
     ]
    },
    {
     "name": "stderr",
     "output_type": "stream",
     "text": [
      " 38%|███████████████▉                          | 45/119 [12:36<19:00, 15.42s/it]"
     ]
    },
    {
     "name": "stdout",
     "output_type": "stream",
     "text": [
      "name: 복성호막횟집\n",
      "time_dict : {'일': '10:30 - 21:00', '월': '10:30 - 21:00', '화': '10:30 - 21:00', '수': '10:30 - 21:00', '목': '정기휴무 (매주 목요일)', '금': '10:30 - 21:00', '토': '10:30 - 21:00'}\n"
     ]
    },
    {
     "name": "stderr",
     "output_type": "stream",
     "text": [
      " 39%|████████████████▏                         | 46/119 [12:55<20:15, 16.65s/it]"
     ]
    },
    {
     "name": "stdout",
     "output_type": "stream",
     "text": [
      "name: 영이네물회전문점\n",
      "Error : list index out of range\n"
     ]
    },
    {
     "name": "stderr",
     "output_type": "stream",
     "text": [
      " 39%|████████████████▌                         | 47/119 [13:15<21:02, 17.53s/it]"
     ]
    },
    {
     "name": "stdout",
     "output_type": "stream",
     "text": [
      "name: 예단포1번지\n",
      "Error : list index out of range\n"
     ]
    },
    {
     "name": "stderr",
     "output_type": "stream",
     "text": [
      " 40%|████████████████▉                         | 48/119 [13:35<21:30, 18.17s/it]"
     ]
    },
    {
     "name": "stdout",
     "output_type": "stream",
     "text": [
      "name: 대성호\n",
      "Error : list index out of range\n"
     ]
    },
    {
     "name": "stderr",
     "output_type": "stream",
     "text": [
      " 41%|█████████████████▎                        | 49/119 [13:49<19:58, 17.12s/it]"
     ]
    },
    {
     "name": "stdout",
     "output_type": "stream",
     "text": [
      "name: 철주네\n",
      "time_dict : {'일': '08:00 - 19:00', '월': '08:00 - 19:00', '화': '08:00 - 19:00', '수': '08:00 - 19:00', '목': '08:00 - 19:00', '금': '08:00 - 19:00', '토': '08:00 - 19:00'}\n"
     ]
    },
    {
     "name": "stderr",
     "output_type": "stream",
     "text": [
      " 42%|█████████████████▋                        | 50/119 [14:04<18:52, 16.41s/it]"
     ]
    },
    {
     "name": "stdout",
     "output_type": "stream",
     "text": [
      "name: 실미도횟집\n",
      "time_dict : {'월': '08:00 - 22:00', '화': '08:00 - 22:00', '수': '08:00 - 22:00', '목': '08:00 - 22:00', '금': '08:00 - 22:00', '토': '08:00 - 22:00', '일': '08:00 - 22:00'}\n"
     ]
    },
    {
     "name": "stderr",
     "output_type": "stream",
     "text": [
      " 43%|██████████████████                        | 51/119 [14:19<18:01, 15.91s/it]"
     ]
    },
    {
     "name": "stdout",
     "output_type": "stream",
     "text": [
      "name: 바다해물칼국수\n",
      "time_dict : {'일': '08:00 - 22:00', '월': '08:00 - 19:00', '화': '08:00 - 19:00', '수': '08:00 - 19:00', '목': '08:00 - 19:00', '금': '08:00 - 19:00', '토': '08:00 - 22:00'}\n",
      "Error : list index out of range\n"
     ]
    },
    {
     "name": "stderr",
     "output_type": "stream",
     "text": [
      " 44%|██████████████████▎                       | 52/119 [14:34<17:28, 15.64s/it]"
     ]
    },
    {
     "name": "stdout",
     "output_type": "stream",
     "text": [
      "name: 무의도낙지박사네\n",
      "time_dict : {'일': '08:00 - 20:0019:00 라스트오더', '월': '정기휴무 (매주 월요일)', '화': '08:00 - 20:0019:00 라스트오더', '수': '08:00 - 20:0019:00 라스트오더', '목': '08:00 - 20:0019:00 라스트오더', '금': '08:00 - 20:0019:00 라스트오더', '토': '08:00 - 20:0019:00 라스트오더'}\n"
     ]
    },
    {
     "name": "stderr",
     "output_type": "stream",
     "text": [
      " 45%|██████████████████▋                       | 53/119 [14:49<17:11, 15.62s/it]"
     ]
    },
    {
     "name": "stdout",
     "output_type": "stream",
     "text": [
      "name: 큰무리음식점\n",
      "time_dict : {'일': '08:00 - 21:00', '월': '08:00 - 21:00', '화': '08:00 - 21:00', '수': '정기휴무 (매달 2, 4번째 수요일)', '목': '08:00 - 21:00', '금': '08:00 - 21:00', '토': '08:00 - 21:00'}\n"
     ]
    },
    {
     "name": "stderr",
     "output_type": "stream",
     "text": [
      " 45%|███████████████████                       | 54/119 [15:09<18:18, 16.90s/it]"
     ]
    },
    {
     "name": "stdout",
     "output_type": "stream",
     "text": [
      "name: 중앙회식당\n",
      "Error : list index out of range\n"
     ]
    },
    {
     "name": "stderr",
     "output_type": "stream",
     "text": [
      " 46%|███████████████████▍                      | 55/119 [15:29<18:52, 17.70s/it]"
     ]
    },
    {
     "name": "stdout",
     "output_type": "stream",
     "text": [
      "name: 시골밥상\n",
      "Error : list index out of range\n"
     ]
    },
    {
     "name": "stderr",
     "output_type": "stream",
     "text": [
      " 47%|███████████████████▊                      | 56/119 [15:44<17:48, 16.96s/it]"
     ]
    },
    {
     "name": "stdout",
     "output_type": "stream",
     "text": [
      "name: 수리봉회식당\n",
      "time_dict : {'월': '08:00 - 21:00', '화': '08:00 - 21:00', '수': '08:00 - 21:00', '목': '08:00 - 21:00', '금': '08:00 - 21:00', '토': '08:00 - 21:00', '일': '08:00 - 21:00'}\n"
     ]
    },
    {
     "name": "stderr",
     "output_type": "stream",
     "text": [
      " 48%|████████████████████                      | 57/119 [16:03<18:17, 17.70s/it]"
     ]
    },
    {
     "name": "stdout",
     "output_type": "stream",
     "text": [
      "name: 무의회식당\n",
      "Error : list index out of range\n"
     ]
    },
    {
     "name": "stderr",
     "output_type": "stream",
     "text": [
      " 49%|████████████████████▍                     | 58/119 [16:18<17:11, 16.91s/it]"
     ]
    },
    {
     "name": "stdout",
     "output_type": "stream",
     "text": [
      "name: 번영횟집\n",
      "time_dict : {'월': '09:00 - 22:00', '화': '09:00 - 22:00', '수': '09:00 - 22:00', '목': '09:00 - 22:00', '금': '09:00 - 22:00', '토': '09:00 - 22:00', '일': '09:00 - 22:00'}\n"
     ]
    },
    {
     "name": "stderr",
     "output_type": "stream",
     "text": [
      " 50%|████████████████████▊                     | 59/119 [16:33<16:15, 16.26s/it]"
     ]
    },
    {
     "name": "stdout",
     "output_type": "stream",
     "text": [
      "name: 도랫마을\n",
      "time_dict : {'일': '08:30 - 21:0020:00 라스트오더', '월': '10:00 - 20:0019:00 라스트오더', '화': '10:00 - 20:0019:00 라스트오더', '수': '10:00 - 20:0019:00 라스트오더', '목': '10:00 - 20:0019:00 라스트오더', '금': '10:00 - 20:0019:00 라스트오더', '토': '08:30 - 21:0020:00 라스트오더'}\n"
     ]
    },
    {
     "name": "stderr",
     "output_type": "stream",
     "text": [
      " 50%|█████████████████████▏                    | 60/119 [16:53<16:57, 17.24s/it]"
     ]
    },
    {
     "name": "stdout",
     "output_type": "stream",
     "text": [
      "name: 하나개분식\n"
     ]
    },
    {
     "name": "stderr",
     "output_type": "stream",
     "text": [
      " 51%|█████████████████████▌                    | 61/119 [17:13<17:27, 18.05s/it]"
     ]
    },
    {
     "name": "stdout",
     "output_type": "stream",
     "text": [
      "name: 하나조개구이\n",
      "Error : list index out of range\n"
     ]
    },
    {
     "name": "stderr",
     "output_type": "stream",
     "text": [
      " 52%|█████████████████████▉                    | 62/119 [17:28<16:21, 17.22s/it]"
     ]
    },
    {
     "name": "stdout",
     "output_type": "stream",
     "text": [
      "name: 메이드림\n",
      "time_dict : {'일': '10:00 - 21:3020:00 라스트오더', '월': '10:00 - 21:3020:00 라스트오더', '화': '10:00 - 21:3020:00 라스트오더', '수': '10:00 - 21:3020:00 라스트오더', '목': '추석 연휴10:00 - 21:30', '금': '추석10:00 - 21:30', '토': '추석 연휴10:00 - 21:30'}\n"
     ]
    },
    {
     "name": "stderr",
     "output_type": "stream",
     "text": [
      " 53%|██████████████████████▏                   | 63/119 [17:43<15:28, 16.59s/it]"
     ]
    },
    {
     "name": "stdout",
     "output_type": "stream",
     "text": [
      "name: 자연도소금빵&자연도차\n",
      "time_dict : {'일': '10:00 - 23:00', '월': '11:00 - 22:00', '화': '11:00 - 22:00', '수': '11:00 - 22:00', '목': '11:00 - 22:00', '금': '10:00 - 23:00', '토': '10:00 - 23:00'}\n"
     ]
    },
    {
     "name": "stderr",
     "output_type": "stream",
     "text": [
      " 54%|██████████████████████▌                   | 64/119 [17:58<14:50, 16.18s/it]"
     ]
    },
    {
     "name": "stdout",
     "output_type": "stream",
     "text": [
      "name: 카페오라\n",
      "time_dict : {'일': '09:00 - 22:3022:20 라스트오더', '월': '10:00 - 22:3022:20 라스트오더', '화': '10:00 - 22:3022:20 라스트오더', '수': '10:00 - 22:3022:20 라스트오더', '목': '추석 연휴09:00 - 22:30', '금': '추석09:00 - 22:30', '토': '추석 연휴09:00 - 22:30'}\n",
      "name: 달콤한 바다\n",
      "time_dict : {'일': '10:30 - 21:3021:00 라스트오더', '월': '11:00 - 21:0020:30 라스트오더', '화': '정기휴무 (매주 화요일)', '수': '11:00 - 21:0020:30 라스트오더', '목': '11:00 - 21:0020:30 라스트오더', '금': '11:00 - 21:0020:30 라스트오더', '토': '10:30 - 21:3021:00 라스트오더'}\n"
     ]
    },
    {
     "name": "stderr",
     "output_type": "stream",
     "text": [
      " 55%|███████████████████████▎                  | 66/119 [18:28<13:46, 15.59s/it]"
     ]
    },
    {
     "name": "stdout",
     "output_type": "stream",
     "text": [
      "name: 을왕리탑카페\n",
      "time_dict : {'월': '11:00 - 22:00', '화': '11:00 - 22:00', '수': '11:00 - 22:00', '목': '11:00 - 22:00', '금': '11:00 - 22:00', '토': '11:00 - 22:00', '일': '11:00 - 22:00'}\n"
     ]
    },
    {
     "name": "stderr",
     "output_type": "stream",
     "text": [
      " 56%|███████████████████████▋                  | 67/119 [18:44<13:27, 15.53s/it]"
     ]
    },
    {
     "name": "stdout",
     "output_type": "stream",
     "text": [
      "name: 블랑\n",
      "time_dict : {'일': '10:00 - 23:00', '월': '10:00 - 22:00', '화': '10:00 - 22:00', '수': '10:00 - 22:00', '목': '10:00 - 22:00', '금': '10:00 - 24:00', '토': '10:00 - 01:00'}\n"
     ]
    },
    {
     "name": "stderr",
     "output_type": "stream",
     "text": [
      " 57%|████████████████████████                  | 68/119 [18:59<13:04, 15.39s/it]"
     ]
    },
    {
     "name": "stdout",
     "output_type": "stream",
     "text": [
      "name: 레드피아노 카페\n",
      "time_dict : {'월': '10:00 - 02:0001:30 라스트오더', '화': '10:00 - 02:0001:30 라스트오더', '수': '10:00 - 02:0001:30 라스트오더', '목': '10:00 - 02:0001:30 라스트오더', '금': '10:00 - 02:0001:30 라스트오더', '토': '10:00 - 02:0001:30 라스트오더', '일': '10:00 - 02:0001:30 라스트오더'}\n"
     ]
    },
    {
     "name": "stderr",
     "output_type": "stream",
     "text": [
      " 58%|████████████████████████▎                 | 69/119 [19:14<12:42, 15.26s/it]"
     ]
    },
    {
     "name": "stdout",
     "output_type": "stream",
     "text": [
      "name: 산&바다\n",
      "time_dict : {'월': '07:30 - 20:00', '화': '07:30 - 20:00', '수': '07:30 - 20:00', '목': '07:30 - 20:00', '금': '07:30 - 20:00', '토': '07:30 - 20:00', '일': '07:30 - 20:00'}\n",
      "Error : list index out of range\n"
     ]
    },
    {
     "name": "stderr",
     "output_type": "stream",
     "text": [
      " 59%|████████████████████████▋                 | 70/119 [19:29<12:23, 15.18s/it]"
     ]
    },
    {
     "name": "stdout",
     "output_type": "stream",
     "text": [
      "name: 블루틴\n",
      "time_dict : {'일': '11:00 - 21:00', '월': '정기휴무 (매주 월요일)', '화': '정기휴무 (매주 화요일)', '수': '정기휴무 (매주 수요일)', '목': '추석 연휴 휴무', '금': '추석 휴무', '토': '추석 연휴 휴무'}\n"
     ]
    },
    {
     "name": "stderr",
     "output_type": "stream",
     "text": [
      " 60%|█████████████████████████                 | 71/119 [19:43<12:01, 15.03s/it]"
     ]
    },
    {
     "name": "stdout",
     "output_type": "stream",
     "text": [
      "name: 에스프레소25\n",
      "time_dict : {'일': '10:00 - 23:00', '월': '10:00 - 23:00', '화': '10:00 - 23:00', '수': '10:00 - 23:00', '목': '10:00 - 23:00', '금': '10:00 - 24:00', '토': '10:00 - 24:00'}\n"
     ]
    },
    {
     "name": "stderr",
     "output_type": "stream",
     "text": [
      " 61%|█████████████████████████▍                | 72/119 [19:59<11:49, 15.09s/it]"
     ]
    },
    {
     "name": "stdout",
     "output_type": "stream",
     "text": [
      "name: 셀럽\n",
      "time_dict : {'일': '10:00 - 21:00', '월': '10:00 - 21:00', '화': '10:00 - 21:00', '수': '10:00 - 21:00', '목': '추석 연휴10:00 - 20:00', '금': '추석10:00 - 20:00', '토': '추석 연휴10:00 - 20:00'}\n"
     ]
    },
    {
     "name": "stderr",
     "output_type": "stream",
     "text": [
      " 61%|█████████████████████████▊                | 73/119 [20:14<11:35, 15.11s/it]"
     ]
    },
    {
     "name": "stdout",
     "output_type": "stream",
     "text": [
      "name: 카페잠진도길28\n",
      "time_dict : {'일': '10:00 - 18:3018:00 라스트오더', '월': '10:00 - 18:3018:00 라스트오더', '화': '정기휴무 (매주 화요일)', '수': '10:00 - 18:3018:00 라스트오더', '목': '추석 연휴10:00 - 20:00', '금': '추석10:00 - 20:00', '토': '추석 연휴10:00 - 20:00'}\n"
     ]
    },
    {
     "name": "stderr",
     "output_type": "stream",
     "text": [
      " 62%|██████████████████████████                | 74/119 [20:29<11:21, 15.15s/it]"
     ]
    },
    {
     "name": "stdout",
     "output_type": "stream",
     "text": [
      "name: C27 다운타운\n",
      "time_dict : {'월': '10:00 - 21:0020:30 라스트오더', '화': '10:00 - 21:0020:30 라스트오더', '수': '10:00 - 21:0020:30 라스트오더', '목': '10:00 - 21:0020:30 라스트오더', '금': '10:00 - 21:0020:30 라스트오더', '토': '10:00 - 21:0020:30 라스트오더', '일': '10:00 - 21:0020:30 라스트오더'}\n"
     ]
    },
    {
     "name": "stderr",
     "output_type": "stream",
     "text": [
      " 63%|██████████████████████████▍               | 75/119 [20:44<11:06, 15.14s/it]"
     ]
    },
    {
     "name": "stdout",
     "output_type": "stream",
     "text": [
      "name: 보테가\n",
      "time_dict : {'일': '09:00 - 22:0021:00 라스트오더', '월': '10:00 - 22:0021:00 라스트오더', '화': '10:00 - 22:0021:00 라스트오더', '수': '10:00 - 22:0021:00 라스트오더', '목': '10:00 - 22:0021:00 라스트오더', '금': '10:00 - 22:0021:00 라스트오더', '토': '09:00 - 22:0021:00 라스트오더'}\n"
     ]
    },
    {
     "name": "stderr",
     "output_type": "stream",
     "text": [
      " 64%|██████████████████████████▊               | 76/119 [20:59<10:49, 15.11s/it]"
     ]
    },
    {
     "name": "stdout",
     "output_type": "stream",
     "text": [
      "name: 카페싹 을왕리점\n",
      "time_dict : {'월': '09:00 - 22:00', '화': '09:00 - 22:00', '수': '09:00 - 22:00', '목': '09:00 - 22:00', '금': '09:00 - 22:00', '토': '09:00 - 22:00', '일': '09:00 - 22:00'}\n"
     ]
    },
    {
     "name": "stderr",
     "output_type": "stream",
     "text": [
      " 65%|███████████████████████████▏              | 77/119 [21:14<10:32, 15.06s/it]"
     ]
    },
    {
     "name": "stdout",
     "output_type": "stream",
     "text": [
      "name: 엠클리프\n",
      "time_dict : {'일': '10:30 - 22:0021:15 라스트오더', '월': '10:30 - 21:0020:15 라스트오더', '화': '10:30 - 21:0020:15 라스트오더', '수': '10:30 - 21:0020:15 라스트오더', '목': '10:30 - 21:0020:15 라스트오더', '금': '10:30 - 22:0021:15 라스트오더', '토': '10:30 - 22:0021:15 라스트오더'}\n"
     ]
    },
    {
     "name": "stderr",
     "output_type": "stream",
     "text": [
      " 66%|███████████████████████████▌              | 78/119 [21:29<10:12, 14.95s/it]"
     ]
    },
    {
     "name": "stdout",
     "output_type": "stream",
     "text": [
      "name: 마시안제빵소\n",
      "time_dict : {'일': '10:30 - 20:30', '월': '10:30 - 21:00', '화': '10:30 - 21:00', '수': '10:30 - 21:00', '목': '10:30 - 21:00', '금': '10:30 - 21:00', '토': '10:30 - 20:30'}\n"
     ]
    },
    {
     "name": "stderr",
     "output_type": "stream",
     "text": [
      " 66%|███████████████████████████▉              | 79/119 [21:44<10:01, 15.04s/it]"
     ]
    },
    {
     "name": "stdout",
     "output_type": "stream",
     "text": [
      "name: 미음\n",
      "time_dict : {'일': '10:00 - 21:0020:00 라스트오더', '월': '10:00 - 20:3019:30 라스트오더', '화': '10:00 - 20:3019:30 라스트오더', '수': '10:00 - 20:3019:30 라스트오더', '목': '추석 연휴10:00 - 21:00', '금': '추석10:00 - 21:00', '토': '추석 연휴10:00 - 21:00'}\n"
     ]
    },
    {
     "name": "stderr",
     "output_type": "stream",
     "text": [
      " 67%|████████████████████████████▏             | 80/119 [21:59<09:45, 15.01s/it]"
     ]
    },
    {
     "name": "stdout",
     "output_type": "stream",
     "text": [
      "name: 마시랑카페\n",
      "time_dict : {'월': '10:00 - 21:30', '화': '10:00 - 21:30', '수': '10:00 - 21:30', '목': '10:00 - 21:30', '금': '10:00 - 21:30', '토': '10:00 - 21:30', '일': '10:00 - 21:30'}\n"
     ]
    },
    {
     "name": "stderr",
     "output_type": "stream",
     "text": [
      " 68%|████████████████████████████▌             | 81/119 [22:14<09:26, 14.92s/it]"
     ]
    },
    {
     "name": "stdout",
     "output_type": "stream",
     "text": [
      "name: 바나나커피\n",
      "time_dict : {'일': '10:00 - 20:00', '월': '10:00 - 19:00', '화': '10:00 - 19:00', '수': '10:00 - 19:00', '목': '10:00 - 19:00', '금': '10:00 - 19:00', '토': '10:00 - 20:00'}\n"
     ]
    },
    {
     "name": "stderr",
     "output_type": "stream",
     "text": [
      " 69%|████████████████████████████▉             | 82/119 [22:34<10:11, 16.52s/it]"
     ]
    },
    {
     "name": "stdout",
     "output_type": "stream",
     "text": [
      "name: 캠프플러스\n",
      "Error : list index out of range\n"
     ]
    },
    {
     "name": "stderr",
     "output_type": "stream",
     "text": [
      " 70%|█████████████████████████████▎            | 83/119 [22:49<09:39, 16.10s/it]"
     ]
    },
    {
     "name": "stdout",
     "output_type": "stream",
     "text": [
      "name: 카페 림\n",
      "time_dict : {'일': '11:30 - 20:3019:40 라스트오더', '월': '정기휴무 (매주 월요일)', '화': '정기휴무 (매주 화요일)', '수': '11:30 - 20:0019:10 라스트오더', '목': '11:30 - 20:0019:10 라스트오더', '금': '11:30 - 20:0019:10 라스트오더', '토': '11:30 - 20:3019:40 라스트오더'}\n"
     ]
    },
    {
     "name": "stderr",
     "output_type": "stream",
     "text": [
      " 71%|█████████████████████████████▋            | 84/119 [23:04<09:13, 15.81s/it]"
     ]
    },
    {
     "name": "stdout",
     "output_type": "stream",
     "text": [
      "name: 스타파이브 카페\n",
      "time_dict : {'일': '10:00 - 21:0020:30 라스트오더', '월': '10:00 - 21:0020:30 라스트오더', '화': '10:00 - 21:0020:30 라스트오더', '수': '10:00 - 21:0020:30 라스트오더', '목': '추석 연휴10:00 - 21:00', '금': '추석10:00 - 21:00', '토': '추석 연휴10:00 - 21:00'}\n"
     ]
    },
    {
     "name": "stderr",
     "output_type": "stream",
     "text": [
      " 71%|██████████████████████████████            | 85/119 [23:19<08:51, 15.62s/it]"
     ]
    },
    {
     "name": "stdout",
     "output_type": "stream",
     "text": [
      "name: 카페 소풍\n",
      "time_dict : {'일': '11:00 - 21:0020:30 라스트오더', '월': '정기휴무 (매주 월요일)', '화': '11:00 - 21:0020:30 라스트오더', '수': '11:00 - 21:0020:30 라스트오더', '목': '11:00 - 21:0020:30 라스트오더', '금': '11:00 - 21:0020:30 라스트오더', '토': '11:00 - 21:0020:30 라스트오더'}\n"
     ]
    },
    {
     "name": "stderr",
     "output_type": "stream",
     "text": [
      " 72%|██████████████████████████████▎           | 86/119 [23:34<08:26, 15.34s/it]"
     ]
    },
    {
     "name": "stdout",
     "output_type": "stream",
     "text": [
      "name: 카페율\n",
      "time_dict : {'일': '11:00 - 20:3020:00 라스트오더', '월': '정기휴무 (매주 월요일)', '화': '정기휴무 (매주 화요일)', '수': '11:00 - 20:3020:00 라스트오더', '목': '11:00 - 20:3020:00 라스트오더', '금': '11:00 - 20:3020:00 라스트오더', '토': '11:00 - 20:3020:00 라스트오더'}\n"
     ]
    },
    {
     "name": "stderr",
     "output_type": "stream",
     "text": [
      " 73%|██████████████████████████████▋           | 87/119 [23:49<08:08, 15.25s/it]"
     ]
    },
    {
     "name": "stdout",
     "output_type": "stream",
     "text": [
      "name: 자연도소금빵\n",
      "time_dict : {'월': '09:00 - 22:00', '화': '09:00 - 22:00', '수': '09:00 - 22:00', '목': '09:00 - 22:00', '금': '09:00 - 22:00', '토': '09:00 - 22:00', '일': '09:00 - 22:00'}\n"
     ]
    },
    {
     "name": "stderr",
     "output_type": "stream",
     "text": [
      " 74%|███████████████████████████████           | 88/119 [24:04<07:53, 15.26s/it]"
     ]
    },
    {
     "name": "stdout",
     "output_type": "stream",
     "text": [
      "name: 바다앞테라스\n",
      "time_dict : {'일': '09:00 - 22:0021:00 라스트오더', '월': '09:00 - 22:0021:00 라스트오더', '화': '09:00 - 22:0021:00 라스트오더', '수': '09:00 - 22:0021:00 라스트오더', '목': '09:00 - 23:00', '금': '09:00 - 23:00', '토': '09:00 - 23:00'}\n"
     ]
    },
    {
     "name": "stderr",
     "output_type": "stream",
     "text": [
      " 75%|███████████████████████████████▍          | 89/119 [24:19<07:36, 15.22s/it]"
     ]
    },
    {
     "name": "stdout",
     "output_type": "stream",
     "text": [
      "name: 몽키빵\n",
      "time_dict : {'일': '10:00 - 22:00', '월': '10:00 - 22:00', '화': '정기휴무 (매주 화요일)', '수': '10:00 - 22:00', '목': '추석 연휴10:00 - 22:00', '금': '추석10:00 - 22:00', '토': '추석 연휴10:00 - 22:00'}\n"
     ]
    },
    {
     "name": "stderr",
     "output_type": "stream",
     "text": [
      " 76%|███████████████████████████████▊          | 90/119 [24:34<07:17, 15.07s/it]"
     ]
    },
    {
     "name": "stdout",
     "output_type": "stream",
     "text": [
      "name: 차덕분\n",
      "Error : list index out of range\n"
     ]
    },
    {
     "name": "stderr",
     "output_type": "stream",
     "text": [
      " 76%|████████████████████████████████          | 91/119 [24:49<07:01, 15.04s/it]"
     ]
    },
    {
     "name": "stdout",
     "output_type": "stream",
     "text": [
      "name: 카페온화 영종도점\n",
      "time_dict : {'일': '11:00 - 22:00', '월': '12:00 - 21:00', '화': '12:00 - 21:00', '수': '12:00 - 21:00', '목': '추석 연휴10:00 - 22:00', '금': '추석10:00 - 22:00', '토': '추석 연휴10:00 - 22:00'}\n"
     ]
    },
    {
     "name": "stderr",
     "output_type": "stream",
     "text": [
      " 77%|████████████████████████████████▍         | 92/119 [25:05<06:48, 15.14s/it]"
     ]
    },
    {
     "name": "stdout",
     "output_type": "stream",
     "text": [
      "name: 바다앞 농장\n",
      "time_dict : {'일': '10:00 - 22:0021:00 라스트오더', '월': '10:00 - 22:0021:00 라스트오더', '화': '10:00 - 22:0021:00 라스트오더', '수': '10:00 - 22:0021:00 라스트오더', '목': '10:00 - 23:00', '금': '10:00 - 23:00', '토': '10:00 - 23:00'}\n"
     ]
    },
    {
     "name": "stderr",
     "output_type": "stream",
     "text": [
      " 78%|████████████████████████████████▊         | 93/119 [25:20<06:33, 15.14s/it]"
     ]
    },
    {
     "name": "stdout",
     "output_type": "stream",
     "text": [
      "name: 바다의시간\n",
      "time_dict : {'일': '10:00 - 22:0021:30 라스트오더', '월': '12:00 - 22:0021:30 라스트오더', '화': '12:00 - 22:0021:30 라스트오더', '수': '정기휴무 (매주 수요일)', '목': '12:00 - 22:0021:30 라스트오더', '금': '12:00 - 22:0021:30 라스트오더', '토': '10:00 - 22:0021:30 라스트오더'}\n"
     ]
    },
    {
     "name": "stderr",
     "output_type": "stream",
     "text": [
      " 79%|█████████████████████████████████▏        | 94/119 [25:35<06:19, 15.20s/it]"
     ]
    },
    {
     "name": "stdout",
     "output_type": "stream",
     "text": [
      "name: 경주십원빵 영종구읍뱃터점\n",
      "time_dict : {'일': '10:00 - 22:00', '월': '10:00 - 22:00', '화': '10:00 - 22:00', '수': '정기휴무 (매주 수요일)', '목': '추석 연휴10:00 - 22:00', '금': '추석10:00 - 22:00', '토': '추석 연휴10:00 - 22:00'}\n"
     ]
    },
    {
     "name": "stderr",
     "output_type": "stream",
     "text": [
      " 80%|█████████████████████████████████▌        | 95/119 [25:50<06:05, 15.23s/it]"
     ]
    },
    {
     "name": "stdout",
     "output_type": "stream",
     "text": [
      "name: 평상인제빵소\n",
      "time_dict : {'일': '10:00 - 22:0021:30 라스트오더', '월': '10:00 - 22:0021:30 라스트오더', '화': '10:00 - 22:0021:30 라스트오더', '수': '10:00 - 22:0021:30 라스트오더', '목': '10:00 - 22:0021:30 라스트오더', '금': '추석 당일 휴무', '토': '10:00 - 22:0021:30 라스트오더'}\n"
     ]
    },
    {
     "name": "stderr",
     "output_type": "stream",
     "text": [
      " 81%|█████████████████████████████████▉        | 96/119 [26:06<05:51, 15.27s/it]"
     ]
    },
    {
     "name": "stdout",
     "output_type": "stream",
     "text": [
      "name: 레이어드1994\n",
      "time_dict : {'일': '09:00 - 12:00', '월': '09:00 - 12:00', '화': '09:00 - 12:00', '수': '정기휴무 (매주 수요일)', '목': '09:00 - 12:00', '금': '09:00 - 12:00', '토': '09:00 - 12:00'}\n"
     ]
    },
    {
     "name": "stderr",
     "output_type": "stream",
     "text": [
      " 82%|██████████████████████████████████▏       | 97/119 [26:21<05:34, 15.21s/it]"
     ]
    },
    {
     "name": "stdout",
     "output_type": "stream",
     "text": [
      "name: 에스티발\n",
      "time_dict : {'일': '10:00 - 21:0020:00 라스트오더', '월': '휴무', '화': '휴무', '수': '휴무', '목': '10:00 - 21:0020:00 라스트오더', '금': '10:00 - 21:0020:00 라스트오더', '토': '10:00 - 21:0020:00 라스트오더'}\n"
     ]
    },
    {
     "name": "stderr",
     "output_type": "stream",
     "text": [
      " 82%|██████████████████████████████████▌       | 98/119 [26:41<05:48, 16.59s/it]"
     ]
    },
    {
     "name": "stdout",
     "output_type": "stream",
     "text": [
      "name: 승앤덕\n",
      "Error : list index out of range\n"
     ]
    },
    {
     "name": "stderr",
     "output_type": "stream",
     "text": [
      " 83%|██████████████████████████████████▉       | 99/119 [26:56<05:25, 16.30s/it]"
     ]
    },
    {
     "name": "stdout",
     "output_type": "stream",
     "text": [
      "name: 카페 예단\n",
      "time_dict : {'일': '10:00 - 20:00', '월': '10:00 - 20:00', '화': '10:00 - 20:00', '수': '10:00 - 20:00', '목': '10:00 - 20:00', '금': '10:00 - 21:00', '토': '10:00 - 21:00'}\n"
     ]
    },
    {
     "name": "stderr",
     "output_type": "stream",
     "text": [
      " 84%|██████████████████████████████████▍      | 100/119 [27:11<05:00, 15.82s/it]"
     ]
    },
    {
     "name": "stdout",
     "output_type": "stream",
     "text": [
      "name: 갯골이야기\n",
      "time_dict : {'일': '10:00 - 21:0020:55 라스트오더', '월': '10:00 - 21:0020:55 라스트오더', '화': '정기휴무 (매주 화요일)', '수': '10:00 - 21:0020:55 라스트오더', '목': '10:00 - 21:0020:55 라스트오더', '금': '10:00 - 21:0020:55 라스트오더', '토': '10:00 - 21:0020:55 라스트오더'}\n"
     ]
    },
    {
     "name": "stderr",
     "output_type": "stream",
     "text": [
      " 85%|██████████████████████████████████▊      | 101/119 [27:31<05:06, 17.04s/it]"
     ]
    },
    {
     "name": "stdout",
     "output_type": "stream",
     "text": [
      "name: 오늘커피\n"
     ]
    },
    {
     "name": "stderr",
     "output_type": "stream",
     "text": [
      " 86%|███████████████████████████████████▏     | 102/119 [27:46<04:39, 16.46s/it]"
     ]
    },
    {
     "name": "stdout",
     "output_type": "stream",
     "text": [
      "name: 카페뮈\n",
      "time_dict : {'일': '09:00 - 19:00', '월': '09:00 - 19:00', '화': '09:00 - 19:00', '수': '정기휴무 (매달 2, 4번째 수요일)', '목': '09:00 - 19:00', '금': '09:00 - 19:00', '토': '09:00 - 19:00'}\n"
     ]
    },
    {
     "name": "stderr",
     "output_type": "stream",
     "text": [
      " 87%|███████████████████████████████████▍     | 103/119 [28:06<04:39, 17.44s/it]"
     ]
    },
    {
     "name": "stdout",
     "output_type": "stream",
     "text": [
      "name: 프라이라움\n",
      "Error : list index out of range\n"
     ]
    },
    {
     "name": "stderr",
     "output_type": "stream",
     "text": [
      " 87%|███████████████████████████████████▊     | 104/119 [28:25<04:31, 18.09s/it]"
     ]
    },
    {
     "name": "stdout",
     "output_type": "stream",
     "text": [
      "name: 초록카페\n"
     ]
    },
    {
     "name": "stderr",
     "output_type": "stream",
     "text": [
      " 88%|████████████████████████████████████▏    | 105/119 [28:45<04:19, 18.54s/it]"
     ]
    },
    {
     "name": "stdout",
     "output_type": "stream",
     "text": [
      "name: 무의별콩카페\n"
     ]
    },
    {
     "name": "stderr",
     "output_type": "stream",
     "text": [
      " 89%|████████████████████████████████████▌    | 106/119 [29:00<03:48, 17.57s/it]"
     ]
    },
    {
     "name": "stdout",
     "output_type": "stream",
     "text": [
      "name: 셀럽\n",
      "time_dict : {'일': '10:00 - 21:00', '월': '10:00 - 21:00', '화': '10:00 - 21:00', '수': '10:00 - 21:00', '목': '추석 연휴10:00 - 20:00', '금': '추석10:00 - 20:00', '토': '추석 연휴10:00 - 20:00'}\n"
     ]
    },
    {
     "name": "stderr",
     "output_type": "stream",
     "text": [
      " 90%|████████████████████████████████████▊    | 107/119 [29:15<03:22, 16.86s/it]"
     ]
    },
    {
     "name": "stdout",
     "output_type": "stream",
     "text": [
      "name: 카페잠진도길28\n",
      "time_dict : {'일': '10:00 - 18:3018:00 라스트오더', '월': '10:00 - 18:3018:00 라스트오더', '화': '정기휴무 (매주 화요일)', '수': '10:00 - 18:3018:00 라스트오더', '목': '추석 연휴10:00 - 20:00', '금': '추석10:00 - 20:00', '토': '추석 연휴10:00 - 20:00'}\n"
     ]
    },
    {
     "name": "stderr",
     "output_type": "stream",
     "text": [
      " 91%|█████████████████████████████████████▏   | 108/119 [29:31<02:59, 16.36s/it]"
     ]
    },
    {
     "name": "stdout",
     "output_type": "stream",
     "text": [
      "name: C27 다운타운\n",
      "time_dict : {'월': '10:00 - 21:0020:30 라스트오더', '화': '10:00 - 21:0020:30 라스트오더', '수': '10:00 - 21:0020:30 라스트오더', '목': '10:00 - 21:0020:30 라스트오더', '금': '10:00 - 21:0020:30 라스트오더', '토': '10:00 - 21:0020:30 라스트오더', '일': '10:00 - 21:0020:30 라스트오더'}\n"
     ]
    },
    {
     "name": "stderr",
     "output_type": "stream",
     "text": [
      " 92%|█████████████████████████████████████▌   | 109/119 [29:46<02:39, 15.98s/it]"
     ]
    },
    {
     "name": "stdout",
     "output_type": "stream",
     "text": [
      "name: 보테가\n",
      "time_dict : {'일': '09:00 - 22:0021:00 라스트오더', '월': '10:00 - 22:0021:00 라스트오더', '화': '10:00 - 22:0021:00 라스트오더', '수': '10:00 - 22:0021:00 라스트오더', '목': '10:00 - 22:0021:00 라스트오더', '금': '10:00 - 22:0021:00 라스트오더', '토': '09:00 - 22:0021:00 라스트오더'}\n"
     ]
    },
    {
     "name": "stderr",
     "output_type": "stream",
     "text": [
      " 92%|█████████████████████████████████████▉   | 110/119 [30:01<02:21, 15.72s/it]"
     ]
    },
    {
     "name": "stdout",
     "output_type": "stream",
     "text": [
      "name: 카페싹 을왕리점\n",
      "time_dict : {'월': '09:00 - 22:00', '화': '09:00 - 22:00', '수': '09:00 - 22:00', '목': '09:00 - 22:00', '금': '09:00 - 22:00', '토': '09:00 - 22:00', '일': '09:00 - 22:00'}\n"
     ]
    },
    {
     "name": "stderr",
     "output_type": "stream",
     "text": [
      " 93%|██████████████████████████████████████▏  | 111/119 [30:16<02:03, 15.45s/it]"
     ]
    },
    {
     "name": "stdout",
     "output_type": "stream",
     "text": [
      "name: 엠클리프\n",
      "time_dict : {'일': '10:30 - 22:0021:15 라스트오더', '월': '10:30 - 21:0020:15 라스트오더', '화': '10:30 - 21:0020:15 라스트오더', '수': '10:30 - 21:0020:15 라스트오더', '목': '10:30 - 21:0020:15 라스트오더', '금': '10:30 - 22:0021:15 라스트오더', '토': '10:30 - 22:0021:15 라스트오더'}\n"
     ]
    },
    {
     "name": "stderr",
     "output_type": "stream",
     "text": [
      " 94%|██████████████████████████████████████▌  | 112/119 [30:30<01:46, 15.21s/it]"
     ]
    },
    {
     "name": "stdout",
     "output_type": "stream",
     "text": [
      "name: 마시안제빵소\n",
      "time_dict : {'일': '10:30 - 20:30', '월': '10:30 - 21:00', '화': '10:30 - 21:00', '수': '10:30 - 21:00', '목': '10:30 - 21:00', '금': '10:30 - 21:00', '토': '10:30 - 20:30'}\n"
     ]
    },
    {
     "name": "stderr",
     "output_type": "stream",
     "text": [
      " 95%|██████████████████████████████████████▉  | 113/119 [30:45<01:30, 15.15s/it]"
     ]
    },
    {
     "name": "stdout",
     "output_type": "stream",
     "text": [
      "name: 미음\n",
      "time_dict : {'일': '10:00 - 21:0020:00 라스트오더', '월': '10:00 - 20:3019:30 라스트오더', '화': '10:00 - 20:3019:30 라스트오더', '수': '10:00 - 20:3019:30 라스트오더', '목': '추석 연휴10:00 - 21:00', '금': '추석10:00 - 21:00', '토': '추석 연휴10:00 - 21:00'}\n"
     ]
    },
    {
     "name": "stderr",
     "output_type": "stream",
     "text": [
      " 96%|███████████████████████████████████████▎ | 114/119 [31:00<01:15, 15.07s/it]"
     ]
    },
    {
     "name": "stdout",
     "output_type": "stream",
     "text": [
      "name: 마시랑카페\n",
      "time_dict : {'월': '10:00 - 21:30', '화': '10:00 - 21:30', '수': '10:00 - 21:30', '목': '10:00 - 21:30', '금': '10:00 - 21:30', '토': '10:00 - 21:30', '일': '10:00 - 21:30'}\n"
     ]
    },
    {
     "name": "stderr",
     "output_type": "stream",
     "text": [
      " 97%|███████████████████████████████████████▌ | 115/119 [31:17<01:02, 15.64s/it]"
     ]
    },
    {
     "name": "stdout",
     "output_type": "stream",
     "text": [
      "name: 바나나커피\n",
      "time_dict : {'일': '10:00 - 20:00', '월': '10:00 - 19:00', '화': '10:00 - 19:00', '수': '10:00 - 19:00', '목': '10:00 - 19:00', '금': '10:00 - 19:00', '토': '10:00 - 20:00'}\n"
     ]
    },
    {
     "name": "stderr",
     "output_type": "stream",
     "text": [
      " 97%|███████████████████████████████████████▉ | 116/119 [31:38<00:51, 17.29s/it]"
     ]
    },
    {
     "name": "stdout",
     "output_type": "stream",
     "text": [
      "name: 캠프플러스\n",
      "Error : list index out of range\n"
     ]
    },
    {
     "name": "stderr",
     "output_type": "stream",
     "text": [
      " 98%|████████████████████████████████████████▎| 117/119 [31:54<00:33, 16.97s/it]"
     ]
    },
    {
     "name": "stdout",
     "output_type": "stream",
     "text": [
      "name: 카페 림\n",
      "time_dict : {'일': '11:30 - 20:3019:40 라스트오더', '월': '정기휴무 (매주 월요일)', '화': '정기휴무 (매주 화요일)', '수': '11:30 - 20:0019:10 라스트오더', '목': '11:30 - 20:0019:10 라스트오더', '금': '11:30 - 20:0019:10 라스트오더', '토': '11:30 - 20:3019:40 라스트오더'}\n"
     ]
    },
    {
     "name": "stderr",
     "output_type": "stream",
     "text": [
      " 99%|████████████████████████████████████████▋| 118/119 [32:10<00:16, 16.57s/it]"
     ]
    },
    {
     "name": "stdout",
     "output_type": "stream",
     "text": [
      "name: 스타파이브 카페\n",
      "time_dict : {'일': '10:00 - 21:0020:30 라스트오더', '월': '10:00 - 21:0020:30 라스트오더', '화': '10:00 - 21:0020:30 라스트오더', '수': '10:00 - 21:0020:30 라스트오더', '목': '추석 연휴10:00 - 21:00', '금': '추석10:00 - 21:00', '토': '추석 연휴10:00 - 21:00'}\n"
     ]
    },
    {
     "name": "stderr",
     "output_type": "stream",
     "text": [
      "100%|█████████████████████████████████████████| 119/119 [32:26<00:00, 16.36s/it]"
     ]
    },
    {
     "name": "stdout",
     "output_type": "stream",
     "text": [
      "name: 카페 소풍\n",
      "time_dict : {'일': '11:00 - 21:0020:30 라스트오더', '월': '정기휴무 (매주 월요일)', '화': '11:00 - 21:0020:30 라스트오더', '수': '11:00 - 21:0020:30 라스트오더', '목': '11:00 - 21:0020:30 라스트오더', '금': '11:00 - 21:0020:30 라스트오더', '토': '11:00 - 21:0020:30 라스트오더'}\n"
     ]
    },
    {
     "name": "stderr",
     "output_type": "stream",
     "text": [
      "\n"
     ]
    }
   ],
   "source": [
    "for i in tqdm(range(len(DB_URL))):\n",
    "    try:\n",
    "        db_scrap_new = pd.DataFrame()\n",
    "        driver = webdriver.Chrome(service=service)\n",
    "        \n",
    "        URL = DB_URL[i]\n",
    "        \n",
    "        # 크롬 드라이버를 통해 지정한 URL의 웹 페이지 오픈\n",
    "        driver.get(URL)\n",
    "        driver.implicitly_wait(3) # seconds\n",
    "\n",
    "        # iframe 이동\n",
    "        driver.switch_to.frame(driver.find_element(By.XPATH, '//*[@id=\"entryIframe\"]'))\n",
    "        \n",
    "        # 영업시간 모두 보기\n",
    "        try:\n",
    "            driver.implicitly_wait(5) # seconds\n",
    "            TIME_DETAIL_BTN = '//*[@id=\"app-root\"]/div/div/div/div[6]/div/div[2]/div/div/div[3]/div/a/div[1]'\n",
    "            driver.find_element(By.XPATH, TIME_DETAIL_BTN).click()\n",
    "        except: \n",
    "            pass\n",
    "        \n",
    "        # 영업시간 모두 보기\n",
    "        try:\n",
    "            driver.implicitly_wait(5) # seconds\n",
    "            TIME_DETAIL_BTN = '//*[@id=\"app-root\"]/div/div/div/div[6]/div/div[2]/div/div/div[2]/div/a/div'\n",
    "            driver.find_element(By.XPATH, TIME_DETAIL_BTN).click()\n",
    "        except: \n",
    "            pass\n",
    "        \n",
    "        # 상세정보 보기\n",
    "        try:\n",
    "            driver.implicitly_wait(5) # seconds\n",
    "            DESC_DETAIL_BTN = '//*[@id=\"app-root\"]/div/div/div/div[7]/div/div[2]/div/div/div[9]/div/a/span[1]'\n",
    "            driver.find_element(By.XPATH, DESC_DETAIL_BTN).click()\n",
    "        except: \n",
    "            pass\n",
    "\n",
    "        # 페이지 소스 추출\n",
    "        html_source = driver.page_source\n",
    "        soup_source = BeautifulSoup(html_source, 'html.parser')\n",
    "        \n",
    "\n",
    "        #-------- 콘텐츠명 --------#\n",
    "        try:\n",
    "            TITLE_CLASS = 'Fc1rA'\n",
    "            name_source = soup_source.find_all(class_ = TITLE_CLASS)\n",
    "            name = name_source[0].get_text()\n",
    "        except:\n",
    "            name = ''\n",
    "        print(f\"name: {name}\")\n",
    "        name_list.append(name)\n",
    "    \n",
    "        #-------- 카테고리 --------#\n",
    "        try:\n",
    "            CATEGORY_CLASS = 'DJJvD'\n",
    "            category_source = soup_source.find_all(class_ = CATEGORY_CLASS)\n",
    "            category = category_source[0].get_text()\n",
    "        except:\n",
    "            category = ''\n",
    "        # print(f\"category: {category}\")\n",
    "        category_list.append(category)\n",
    "        \n",
    "        \n",
    "        #-------- 주소 --------#\n",
    "        try:\n",
    "            ADDRESS_CLASS = 'LDgIH'\n",
    "            address_source = soup_source.find_all(class_ = ADDRESS_CLASS)\n",
    "            address = address_source[0].get_text()\n",
    "        except:\n",
    "            address = ''\n",
    "        # print(f\"address: {address}\")\n",
    "        address_list.append(address)\n",
    "        \n",
    "        \n",
    "        #-------- 영업시간 ---------#\n",
    "        try:\n",
    "            TIME_CLASS = 'H3ua4'\n",
    "            time_source = soup_source.find_all(class_ = TIME_CLASS)\n",
    "            \n",
    "            DAY_CLASS = 'i8cJw'\n",
    "            day_source = soup_source.find_all(class_ = DAY_CLASS)\n",
    "            \n",
    "            time_dict = {}\n",
    "            \n",
    "            \n",
    "            if day_source[0].get_text() == '매일':\n",
    "                for day in day_list:\n",
    "                    time_dict[day] = time_source[0].get_text()\n",
    "            else:\n",
    "                for day, time in zip(day_source, time_source):\n",
    "                    day = day.get_text()[0]\n",
    "                    time = time.get_text()\n",
    "                    time_dict[day] = time\n",
    "                    \n",
    "            print(f\"time_dict : {time_dict}\")\n",
    "            time_mon_list.append(time_dict['월'])\n",
    "            time_tue_list.append(time_dict['화'])\n",
    "            time_wed_list.append(time_dict['수'])\n",
    "            time_thr_list.append(time_dict['목'])\n",
    "            time_fri_list.append(time_dict['금'])\n",
    "            time_sat_list.append(time_dict['토'])\n",
    "            time_sun_list.append(time_dict['일'])\n",
    "        \n",
    "        except:\n",
    "            time_mon_list.append('')\n",
    "            time_tue_list.append('')\n",
    "            time_wed_list.append('')\n",
    "            time_thr_list.append('')\n",
    "            time_fri_list.append('')\n",
    "            time_sat_list.append('')\n",
    "            time_sun_list.append('')\n",
    "            \n",
    "        try:\n",
    "            TIME1_CLASS = 'U7pYf'\n",
    "            time1_source = soup_source.find_all(class_ = TIME1_CLASS)\n",
    "            time1 = time1_source[0].get_text()\n",
    "        except:\n",
    "            time1 = ''\n",
    "        # print(f\"time1: {time1}\")\n",
    "        time_txt_list.append(time1)\n",
    "            \n",
    "        #-------- 전화번호 ---------#\n",
    "        try:\n",
    "            TEL_CLASS = 'xlx7Q'\n",
    "            tel_source = soup_source.find_all(class_ = TEL_CLASS)\n",
    "            tel = tel_source[0].get_text()\n",
    "        except:\n",
    "            tel = ''\n",
    "        # print(f\"tel: {tel}\")\n",
    "        tel_list.append(tel)\n",
    "        \n",
    "        \n",
    "        #-------- 간략소개 ---------#\n",
    "        try:\n",
    "            desc_short_source = soup_source.find_all(lambda tag: tag.name == 'div' and tag.get('class') == ['O8qbU'])\n",
    "            desc_short = desc_short_source[0].get_text()\n",
    "        except Exception as e:\n",
    "            print(f\"Error : {e}\")\n",
    "            desc_short = ''\n",
    "        # print(f\"desc_short : {desc_short}\")\n",
    "        desc1_list.append(desc_short)\n",
    "        \n",
    "        \n",
    "        #-------- 상세소개 ---------#\n",
    "        try:\n",
    "            DESC_DETAIL_CLASS = 'zPfVt'\n",
    "            desc_detail_source = soup_source.find_all(class_ = DESC_DETAIL_CLASS)\n",
    "            desc_detail = desc_detail_source[-1].get_text()\n",
    "        except:\n",
    "            desc_detail = ''\n",
    "        # print(f\"desc_detail : {desc_detail}\")\n",
    "        desc2_list.append(desc_detail)\n",
    "\n",
    "        #-------- 상세소개2 ---------#\n",
    "        try:\n",
    "            DESC_DETAIL2_CLASS = 'y6tNq'\n",
    "            desc_detail2_source = soup_source.find_all(class_ = DESC_DETAIL2_CLASS)\n",
    "            desc_detail2 = desc_detail2_source[0].get_text()\n",
    "        except:\n",
    "            desc_detail2 = ''\n",
    "        # print(f\"desc_detail : {desc_detail2}\")\n",
    "        desc3_list.append(desc_detail2)\n",
    "        driver.quit()\n",
    "        \n",
    "    except Exception as e:\n",
    "        print(f\"error : {e}\")"
   ]
  },
  {
   "cell_type": "code",
   "execution_count": 26,
   "id": "01de4ba7-f9d6-44cc-a2f3-9c0f9527ebf9",
   "metadata": {},
   "outputs": [],
   "source": [
    "data_scrapped = {\n",
    "    \"name\"     : name_list,\n",
    "    \"category\" : category_list,\n",
    "    \"address\"  : address_list,\n",
    "    \"time_mon\" : time_mon_list, \n",
    "    \"time_tue\" : time_tue_list,\n",
    "    \"time_wed\" : time_wed_list,\n",
    "    \"time_thr\" : time_thr_list,\n",
    "    \"time_fri\" : time_fri_list, \n",
    "    \"time_sat\" : time_sat_list,\n",
    "    \"time_sun\" : time_sun_list,\n",
    "    \"tel\"      : tel_list,\n",
    "    \"desc1\"    : desc1_list,\n",
    "    \"desc2\"    : desc2_list,\n",
    "    \"desc3\"    : desc3_list,\n",
    "}"
   ]
  },
  {
   "cell_type": "code",
   "execution_count": 33,
   "id": "d76d4aef-5711-45e3-8939-c34b304ce3a6",
   "metadata": {},
   "outputs": [],
   "source": [
    "df_scrapped = pd.DataFrame(data_scrapped)\n",
    "df_scrapped.to_excel('./data/df_scrapped_gb_230925.xlsx')"
   ]
  },
  {
   "cell_type": "code",
   "execution_count": null,
   "id": "81c0cdb0-62a9-49d6-a5d7-9be44e8a3866",
   "metadata": {},
   "outputs": [],
   "source": []
  }
 ],
 "metadata": {
  "kernelspec": {
   "display_name": "naver-map-scraper",
   "language": "python",
   "name": "naver-map-scraper"
  },
  "language_info": {
   "codemirror_mode": {
    "name": "ipython",
    "version": 3
   },
   "file_extension": ".py",
   "mimetype": "text/x-python",
   "name": "python",
   "nbconvert_exporter": "python",
   "pygments_lexer": "ipython3",
   "version": "3.10.9"
  }
 },
 "nbformat": 4,
 "nbformat_minor": 5
}
